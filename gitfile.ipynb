{
  "nbformat": 4,
  "nbformat_minor": 0,
  "metadata": {
    "colab": {
      "provenance": []
    },
    "kernelspec": {
      "name": "python3",
      "display_name": "Python 3"
    },
    "language_info": {
      "name": "python"
    }
  },
  "cells": [
    {
      "cell_type": "code",
      "execution_count": null,
      "metadata": {
        "id": "CGtHHFscFReb"
      },
      "outputs": [],
      "source": [
        "l1=[1,2,3,4]\n"
      ]
    },
    {
      "cell_type": "code",
      "source": [
        "l2=[]\n",
        "for i in l1:\n",
        "    l2.append(i**2)\n",
        "print(l2)"
      ],
      "metadata": {
        "colab": {
          "base_uri": "https://localhost:8080/"
        },
        "id": "V8uoHcI9Fdmc",
        "outputId": "fe626a5a-1f73-4eb9-9074-827111567476"
      },
      "execution_count": null,
      "outputs": [
        {
          "output_type": "stream",
          "name": "stdout",
          "text": [
            "[1, 4, 9, 16]\n"
          ]
        }
      ]
    },
    {
      "cell_type": "code",
      "source": [
        "#DAY 2\n",
        "#copy, difference, intersection, symetric_difference, union, issuperset, issubset, isdisjoint"
      ],
      "metadata": {
        "id": "hyi6cuxvF3o2"
      },
      "execution_count": null,
      "outputs": []
    },
    {
      "cell_type": "code",
      "source": [
        "#Example Sets\n",
        "set1 = {1, 2, 3, 4, 5,7,8}\n",
        "set2 = {4, 5, 6, 7,10,71}\n"
      ],
      "metadata": {
        "id": "253NE6DaMtka"
      },
      "execution_count": null,
      "outputs": []
    },
    {
      "cell_type": "code",
      "source": [
        "# Copy\n",
        "set1_copy = set1.copy()\n",
        "print(\"Copy:\", set1_copy)"
      ],
      "metadata": {
        "colab": {
          "base_uri": "https://localhost:8080/"
        },
        "id": "oL_hyreSNUlt",
        "outputId": "938d8fdd-f5ea-43df-e491-d2a144f59d7d"
      },
      "execution_count": null,
      "outputs": [
        {
          "output_type": "stream",
          "name": "stdout",
          "text": [
            "Copy: {1, 2, 3, 4, 5, 7, 8}\n"
          ]
        }
      ]
    },
    {
      "cell_type": "code",
      "source": [
        "# Difference\n",
        "difference_set = set1 - set2\n",
        "print(\"Difference:\", difference_set)"
      ],
      "metadata": {
        "colab": {
          "base_uri": "https://localhost:8080/"
        },
        "id": "HFqBFInmNaeT",
        "outputId": "e2f9fb03-f8f1-4c76-8039-a563db4cd184"
      },
      "execution_count": null,
      "outputs": [
        {
          "output_type": "stream",
          "name": "stdout",
          "text": [
            "Difference: {8, 1, 2, 3}\n"
          ]
        }
      ]
    },
    {
      "cell_type": "code",
      "source": [
        "\n",
        "# Intersection\n",
        "intersection_set = set1.intersection(set2)\n",
        "print(\"Intersection:\", intersection_set)"
      ],
      "metadata": {
        "colab": {
          "base_uri": "https://localhost:8080/"
        },
        "id": "e8PdlPHGNjpb",
        "outputId": "e9a8d12b-7052-4ca2-a45a-9dca02025ba9"
      },
      "execution_count": null,
      "outputs": [
        {
          "output_type": "stream",
          "name": "stdout",
          "text": [
            "Intersection: {4, 5, 7}\n"
          ]
        }
      ]
    },
    {
      "cell_type": "code",
      "source": [
        "# Symmetric Difference\n",
        "symmetric_difference_set = set1.symmetric_difference(set2)\n",
        "print(\"Symmetric Difference:\", symmetric_difference_set)"
      ],
      "metadata": {
        "colab": {
          "base_uri": "https://localhost:8080/"
        },
        "id": "IhSY-SZJNqxN",
        "outputId": "d712d226-48c7-4d0d-ae9d-fc5bb4113562"
      },
      "execution_count": null,
      "outputs": [
        {
          "output_type": "stream",
          "name": "stdout",
          "text": [
            "Symmetric Difference: {1, 2, 3, 6, 71, 8, 10}\n"
          ]
        }
      ]
    },
    {
      "cell_type": "code",
      "source": [
        "# Union\n",
        "union_set = set1.union(set2)\n",
        "print(\"Union:\", union_set)"
      ],
      "metadata": {
        "colab": {
          "base_uri": "https://localhost:8080/"
        },
        "id": "Y1cgiA-yNyy6",
        "outputId": "61c5a80b-554d-4dcc-e09a-ce87bf234f81"
      },
      "execution_count": null,
      "outputs": [
        {
          "output_type": "stream",
          "name": "stdout",
          "text": [
            "Union: {1, 2, 3, 4, 5, 6, 7, 8, 71, 10}\n"
          ]
        }
      ]
    },
    {
      "cell_type": "code",
      "source": [
        "# Is Superset\n",
        "is_superset = set1.issuperset(set2)\n",
        "print(\"Is Superset:\", is_superset)"
      ],
      "metadata": {
        "colab": {
          "base_uri": "https://localhost:8080/"
        },
        "id": "BVss8mJDN2_Q",
        "outputId": "7054e34b-616a-40ac-c3ef-e9e9eae17c9b"
      },
      "execution_count": null,
      "outputs": [
        {
          "output_type": "stream",
          "name": "stdout",
          "text": [
            "Is Superset: False\n"
          ]
        }
      ]
    },
    {
      "cell_type": "code",
      "source": [
        "# Is Subset\n",
        "is_subset = set1.issubset(set2)\n",
        "print(\"Is Subset:\", is_subset)"
      ],
      "metadata": {
        "colab": {
          "base_uri": "https://localhost:8080/"
        },
        "id": "6xYRjlwZN8ik",
        "outputId": "e86cf317-4326-4282-d2f7-f1a03fbad3ee"
      },
      "execution_count": null,
      "outputs": [
        {
          "output_type": "stream",
          "name": "stdout",
          "text": [
            "Is Subset: False\n"
          ]
        }
      ]
    },
    {
      "cell_type": "code",
      "source": [
        "# Is Disjoint\n",
        "is_disjoint = set1.isdisjoint(set2)\n",
        "print(\"Is Disjoint:\", is_disjoint)"
      ],
      "metadata": {
        "colab": {
          "base_uri": "https://localhost:8080/"
        },
        "id": "5tW-5G-DOBrT",
        "outputId": "7a78523e-1ffb-45c5-d3d0-e76daff18d4b"
      },
      "execution_count": null,
      "outputs": [
        {
          "output_type": "stream",
          "name": "stdout",
          "text": [
            "Is Disjoint: False\n"
          ]
        }
      ]
    },
    {
      "cell_type": "code",
      "source": [
        "#DAY 3\n",
        "\n",
        "my_list =[\"apple\",\"banana\",\"orange\"]\n",
        "\n",
        "my_dictionary = {}\n",
        "for i, x in enumerate(my_list):\n",
        "  my_dictionary[i] = x\n",
        "print(my_dictionary)\n"
      ],
      "metadata": {
        "colab": {
          "base_uri": "https://localhost:8080/"
        },
        "id": "ADcdzhJjqA5j",
        "outputId": "3e144ef2-14c2-488a-c32f-3878132b3516"
      },
      "execution_count": 8,
      "outputs": [
        {
          "output_type": "stream",
          "name": "stdout",
          "text": [
            "{0: 'apple', 1: 'banana', 2: 'orange'}\n"
          ]
        }
      ]
    },
    {
      "cell_type": "code",
      "source": [],
      "metadata": {
        "id": "dn9xJSWlrBNa"
      },
      "execution_count": null,
      "outputs": []
    }
  ]
}
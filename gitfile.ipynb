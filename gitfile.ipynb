{
  "nbformat": 4,
  "nbformat_minor": 0,
  "metadata": {
    "colab": {
      "provenance": []
    },
    "kernelspec": {
      "name": "python3",
      "display_name": "Python 3"
    },
    "language_info": {
      "name": "python"
    }
  },
  "cells": [
    {
      "cell_type": "code",
      "execution_count": 6,
      "metadata": {
        "id": "CGtHHFscFReb"
      },
      "outputs": [],
      "source": [
        "l1=[1,2,3,4]\n"
      ]
    },
    {
      "cell_type": "code",
      "source": [
        "l2=[]\n",
        "for i in l1:\n",
        "    l2.append(i**2)\n",
        "print(l2)"
      ],
      "metadata": {
        "colab": {
          "base_uri": "https://localhost:8080/"
        },
        "id": "V8uoHcI9Fdmc",
        "outputId": "fe626a5a-1f73-4eb9-9074-827111567476"
      },
      "execution_count": 9,
      "outputs": [
        {
          "output_type": "stream",
          "name": "stdout",
          "text": [
            "[1, 4, 9, 16]\n"
          ]
        }
      ]
    },
    {
      "cell_type": "code",
      "source": [],
      "metadata": {
        "id": "hyi6cuxvF3o2"
      },
      "execution_count": null,
      "outputs": []
    }
  ]
}